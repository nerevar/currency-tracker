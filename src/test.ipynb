{
 "cells": [
  {
   "cell_type": "code",
   "execution_count": 1,
   "metadata": {},
   "outputs": [
    {
     "data": {
      "text/plain": [
       "{'data': {'currencies': {'cash': [{'type': 'USD',\n",
       "     'buy': '390.5',\n",
       "     'sell': '396',\n",
       "     'cb': '393.69'},\n",
       "    {'type': 'EUR', 'buy': '405', 'sell': '419', 'cb': '411.09'},\n",
       "    {'type': 'RUR', 'buy': '4.35', 'sell': '4.75', 'cb': '4.4047'},\n",
       "    {'type': 'GBP', 'buy': '491', 'sell': '513', 'cb': '497.94'},\n",
       "    {'type': 'CHF', 'buy': '429', 'sell': '452', 'cb': '436.66'}],\n",
       "   'no_cash': [{'type': 'USD', 'buy': '390.5', 'sell': '396', 'cb': '393.69'},\n",
       "    {'type': 'EUR', 'buy': '405', 'sell': '419', 'cb': '411.09'},\n",
       "    {'type': 'RUR', 'buy': '4.23', 'sell': '4.75', 'cb': '4.4047'},\n",
       "    {'type': 'GBP', 'buy': '491', 'sell': '513', 'cb': '497.94'},\n",
       "    {'type': 'CHF', 'buy': '429', 'sell': '452', 'cb': '436.66'},\n",
       "    {'type': 'AED', 'buy': '104', 'sell': '109', 'cb': '107.2'},\n",
       "    {'type': 'AUD', 'buy': '238', 'sell': '251', 'cb': '244.99'},\n",
       "    {'type': 'CAD', 'buy': '265', 'sell': '279', 'cb': '272.88'},\n",
       "    {'type': 'CNY', 'buy': '52.7', 'sell': '55.2', 'cb': '53.998'},\n",
       "    {'type': 'GEL', 'buy': '137', 'sell': '145', 'cb': '141.36'},\n",
       "    {'type': 'KZT', 'buy': '.77', 'sell': '.84', 'cb': '.78666'}]},\n",
       "  'gold': {'cash': [{'quantity': '1 gram gold', 'rate': '50000'},\n",
       "    {'quantity': '10 gram gold', 'rate': '342000'}],\n",
       "   'no_cash': [{'type': 'XAU',\n",
       "     'buy': '35959.42',\n",
       "     'sell': '49540',\n",
       "     'cb': '35878'}]}},\n",
       " 'updatedAt': '2025-03-04T05:56:42.266Z'}"
      ]
     },
     "execution_count": 1,
     "metadata": {},
     "output_type": "execute_result"
    }
   ],
   "source": [
    "import requests\n",
    "import datetime\n",
    "data = requests.get('https://website-api.ardshinbank.am/currency').json()\n",
    "data"
   ]
  },
  {
   "cell_type": "code",
   "execution_count": 10,
   "metadata": {},
   "outputs": [
    {
     "data": {
      "text/plain": [
       "'2025-03-04T05:56:42.266Z'"
      ]
     },
     "execution_count": 10,
     "metadata": {},
     "output_type": "execute_result"
    }
   ],
   "source": [
    "data['updatedAt']"
   ]
  },
  {
   "cell_type": "code",
   "execution_count": 12,
   "metadata": {},
   "outputs": [
    {
     "data": {
      "text/plain": [
       "{'trackingId': 'GWVWGH9YWU',\n",
       " 'resultCode': 'OK',\n",
       " 'payload': {'lastUpdate': {'milliseconds': 1741068584401},\n",
       "  'rates': [{'category': 'DepositPayments',\n",
       "    'fromCurrency': {'code': 840, 'name': 'USD', 'strCode': '840'},\n",
       "    'toCurrency': {'code': 643, 'name': 'RUB', 'strCode': '643'},\n",
       "    'buy': 83.75,\n",
       "    'sell': 94.5},\n",
       "   {'category': 'CreditCardsOperations',\n",
       "    'fromCurrency': {'code': 840, 'name': 'USD', 'strCode': '840'},\n",
       "    'toCurrency': {'code': 643, 'name': 'RUB', 'strCode': '643'},\n",
       "    'buy': 83.75,\n",
       "    'sell': 94.5},\n",
       "   {'category': 'DebitCardsOperations',\n",
       "    'fromCurrency': {'code': 840, 'name': 'USD', 'strCode': '840'},\n",
       "    'toCurrency': {'code': 643, 'name': 'RUB', 'strCode': '643'},\n",
       "    'buy': 83.75,\n",
       "    'sell': 94.5},\n",
       "   {'category': 'PrepaidCardsOperations',\n",
       "    'fromCurrency': {'code': 840, 'name': 'USD', 'strCode': '840'},\n",
       "    'toCurrency': {'code': 643, 'name': 'RUB', 'strCode': '643'},\n",
       "    'buy': 83.75,\n",
       "    'sell': 94.5},\n",
       "   {'category': 'C2CTransfers',\n",
       "    'fromCurrency': {'code': 840, 'name': 'USD', 'strCode': '840'},\n",
       "    'toCurrency': {'code': 643, 'name': 'RUB', 'strCode': '643'},\n",
       "    'buy': 84.8,\n",
       "    'sell': 93.7},\n",
       "   {'category': 'DebitCardsTransfers',\n",
       "    'fromCurrency': {'code': 840, 'name': 'USD', 'strCode': '840'},\n",
       "    'toCurrency': {'code': 643, 'name': 'RUB', 'strCode': '643'},\n",
       "    'buy': 87.45,\n",
       "    'sell': 98.15},\n",
       "   {'category': 'CreditCardsTransfers',\n",
       "    'fromCurrency': {'code': 840, 'name': 'USD', 'strCode': '840'},\n",
       "    'toCurrency': {'code': 643, 'name': 'RUB', 'strCode': '643'},\n",
       "    'buy': 87.45,\n",
       "    'sell': 98.15},\n",
       "   {'category': 'PrepaidCardsTransfers',\n",
       "    'fromCurrency': {'code': 840, 'name': 'USD', 'strCode': '840'},\n",
       "    'toCurrency': {'code': 643, 'name': 'RUB', 'strCode': '643'},\n",
       "    'buy': 87.45,\n",
       "    'sell': 98.15},\n",
       "   {'category': 'SavingAccountTransfers',\n",
       "    'fromCurrency': {'code': 840, 'name': 'USD', 'strCode': '840'},\n",
       "    'toCurrency': {'code': 643, 'name': 'RUB', 'strCode': '643'},\n",
       "    'buy': 87.45,\n",
       "    'sell': 98.15},\n",
       "   {'category': 'CUTransferFrom10To100',\n",
       "    'fromCurrency': {'code': 840, 'name': 'USD', 'strCode': '840'},\n",
       "    'toCurrency': {'code': 643, 'name': 'RUB', 'strCode': '643'},\n",
       "    'buy': 87.45,\n",
       "    'sell': 98.15},\n",
       "   {'category': 'CUTransferAbove100',\n",
       "    'fromCurrency': {'code': 840, 'name': 'USD', 'strCode': '840'},\n",
       "    'toCurrency': {'code': 643, 'name': 'RUB', 'strCode': '643'},\n",
       "    'buy': 87.45,\n",
       "    'sell': 98.15},\n",
       "   {'category': 'OPSRateGroup',\n",
       "    'fromCurrency': {'code': 840, 'name': 'USD', 'strCode': '840'},\n",
       "    'toCurrency': {'code': 643, 'name': 'RUB', 'strCode': '643'},\n",
       "    'buy': 84.75,\n",
       "    'sell': 93.7},\n",
       "   {'category': 'SwftPrivate',\n",
       "    'fromCurrency': {'code': 840, 'name': 'USD', 'strCode': '840'},\n",
       "    'toCurrency': {'code': 643, 'name': 'RUB', 'strCode': '643'},\n",
       "    'buy': 80.3,\n",
       "    'sell': 93.7},\n",
       "   {'category': 'CUTransfersPrivate',\n",
       "    'fromCurrency': {'code': 840, 'name': 'USD', 'strCode': '840'},\n",
       "    'toCurrency': {'code': 643, 'name': 'RUB', 'strCode': '643'},\n",
       "    'buy': 87.45,\n",
       "    'sell': 98.15},\n",
       "   {'category': 'CUTransfersPremium',\n",
       "    'fromCurrency': {'code': 840, 'name': 'USD', 'strCode': '840'},\n",
       "    'toCurrency': {'code': 643, 'name': 'RUB', 'strCode': '643'},\n",
       "    'buy': 87.45,\n",
       "    'sell': 98.15},\n",
       "   {'category': 'SwftPro',\n",
       "    'fromCurrency': {'code': 840, 'name': 'USD', 'strCode': '840'},\n",
       "    'toCurrency': {'code': 643, 'name': 'RUB', 'strCode': '643'},\n",
       "    'buy': 80.3,\n",
       "    'sell': 93.7},\n",
       "   {'category': 'ATMCashoutRateGroup',\n",
       "    'fromCurrency': {'code': 840, 'name': 'USD', 'strCode': '840'},\n",
       "    'toCurrency': {'code': 643, 'name': 'RUB', 'strCode': '643'},\n",
       "    'buy': 87.45,\n",
       "    'sell': 97.25},\n",
       "   {'category': 'SwftPremium',\n",
       "    'fromCurrency': {'code': 840, 'name': 'USD', 'strCode': '840'},\n",
       "    'toCurrency': {'code': 643, 'name': 'RUB', 'strCode': '643'},\n",
       "    'buy': 80.3,\n",
       "    'sell': 93.7},\n",
       "   {'category': 'CUTransfersPro',\n",
       "    'fromCurrency': {'code': 840, 'name': 'USD', 'strCode': '840'},\n",
       "    'toCurrency': {'code': 643, 'name': 'RUB', 'strCode': '643'},\n",
       "    'buy': 87.45,\n",
       "    'sell': 98.15},\n",
       "   {'category': 'ATMRateGroup',\n",
       "    'fromCurrency': {'code': 840, 'name': 'USD', 'strCode': '840'},\n",
       "    'toCurrency': {'code': 643, 'name': 'RUB', 'strCode': '643'},\n",
       "    'buy': 86.55,\n",
       "    'sell': 93.7},\n",
       "   {'category': 'Swft',\n",
       "    'fromCurrency': {'code': 840, 'name': 'USD', 'strCode': '840'},\n",
       "    'toCurrency': {'code': 643, 'name': 'RUB', 'strCode': '643'},\n",
       "    'buy': 80.3,\n",
       "    'sell': 93.7},\n",
       "   {'category': 'SMETransferAbove100G12',\n",
       "    'fromCurrency': {'code': 840, 'name': 'USD', 'strCode': '840'},\n",
       "    'toCurrency': {'code': 643, 'name': 'RUB', 'strCode': '643'},\n",
       "    'buy': 81.1879,\n",
       "    'sell': 99.9236},\n",
       "   {'category': 'SMETransferFrom10To100G13',\n",
       "    'fromCurrency': {'code': 840, 'name': 'USD', 'strCode': '840'},\n",
       "    'toCurrency': {'code': 643, 'name': 'RUB', 'strCode': '643'},\n",
       "    'buy': 81.1879,\n",
       "    'sell': 99.9236},\n",
       "   {'category': 'SMETransferAbove100G13PO',\n",
       "    'fromCurrency': {'code': 840, 'name': 'USD', 'strCode': '840'},\n",
       "    'toCurrency': {'code': 643, 'name': 'RUB', 'strCode': '643'},\n",
       "    'buy': 81.1879,\n",
       "    'sell': 99.9236},\n",
       "   {'category': 'SMETransferFrom10To100G12',\n",
       "    'fromCurrency': {'code': 840, 'name': 'USD', 'strCode': '840'},\n",
       "    'toCurrency': {'code': 643, 'name': 'RUB', 'strCode': '643'},\n",
       "    'buy': 81.1879,\n",
       "    'sell': 99.9236},\n",
       "   {'category': 'SMETransferFrom10To100G11',\n",
       "    'fromCurrency': {'code': 840, 'name': 'USD', 'strCode': '840'},\n",
       "    'toCurrency': {'code': 643, 'name': 'RUB', 'strCode': '643'},\n",
       "    'buy': 81.1879,\n",
       "    'sell': 99.9236},\n",
       "   {'category': 'SMETransferAbove100G11',\n",
       "    'fromCurrency': {'code': 840, 'name': 'USD', 'strCode': '840'},\n",
       "    'toCurrency': {'code': 643, 'name': 'RUB', 'strCode': '643'},\n",
       "    'buy': 81.1879,\n",
       "    'sell': 99.9236},\n",
       "   {'category': 'SMETransferBelow10G13PO',\n",
       "    'fromCurrency': {'code': 840, 'name': 'USD', 'strCode': '840'},\n",
       "    'toCurrency': {'code': 643, 'name': 'RUB', 'strCode': '643'},\n",
       "    'buy': 81.1879,\n",
       "    'sell': 99.9236},\n",
       "   {'category': 'SMETransferBelow10G11',\n",
       "    'fromCurrency': {'code': 840, 'name': 'USD', 'strCode': '840'},\n",
       "    'toCurrency': {'code': 643, 'name': 'RUB', 'strCode': '643'},\n",
       "    'buy': 81.1879,\n",
       "    'sell': 99.9236},\n",
       "   {'category': 'SMETransferBelow10G12',\n",
       "    'fromCurrency': {'code': 840, 'name': 'USD', 'strCode': '840'},\n",
       "    'toCurrency': {'code': 643, 'name': 'RUB', 'strCode': '643'},\n",
       "    'buy': 81.1879,\n",
       "    'sell': 99.9236},\n",
       "   {'category': 'SMETransferFrom10To100G13PO',\n",
       "    'fromCurrency': {'code': 840, 'name': 'USD', 'strCode': '840'},\n",
       "    'toCurrency': {'code': 643, 'name': 'RUB', 'strCode': '643'},\n",
       "    'buy': 81.1879,\n",
       "    'sell': 99.9236},\n",
       "   {'category': 'SMETransferBelow10G13',\n",
       "    'fromCurrency': {'code': 840, 'name': 'USD', 'strCode': '840'},\n",
       "    'toCurrency': {'code': 643, 'name': 'RUB', 'strCode': '643'},\n",
       "    'buy': 81.1879,\n",
       "    'sell': 99.9236},\n",
       "   {'category': 'SMETransferAbove100G13',\n",
       "    'fromCurrency': {'code': 840, 'name': 'USD', 'strCode': '840'},\n",
       "    'toCurrency': {'code': 643, 'name': 'RUB', 'strCode': '643'},\n",
       "    'buy': 81.1879,\n",
       "    'sell': 99.9236}]}}"
      ]
     },
     "execution_count": 12,
     "metadata": {},
     "output_type": "execute_result"
    }
   ],
   "source": [
    "data2 = requests.get('https://api.tinkoff.ru/v1/currency_rates?from=USD&to=RUB').json()\n",
    "data2"
   ]
  },
  {
   "cell_type": "code",
   "execution_count": 18,
   "metadata": {},
   "outputs": [
    {
     "data": {
      "text/plain": [
       "98.15"
      ]
     },
     "execution_count": 18,
     "metadata": {},
     "output_type": "execute_result"
    }
   ],
   "source": [
    "next((x for x in data2['payload']['rates'] if x['category'] == 'DebitCardsTransfers'))['sell']"
   ]
  },
  {
   "cell_type": "code",
   "execution_count": null,
   "metadata": {},
   "outputs": [],
   "source": []
  },
  {
   "cell_type": "code",
   "execution_count": null,
   "metadata": {},
   "outputs": [],
   "source": []
  },
  {
   "cell_type": "code",
   "execution_count": null,
   "metadata": {},
   "outputs": [],
   "source": []
  },
  {
   "cell_type": "code",
   "execution_count": 24,
   "metadata": {},
   "outputs": [],
   "source": [
    "from datetime import datetime, timezone, timedelta\n",
    "import requests\n",
    "import logging\n",
    "\n",
    "class BaseAPIClient:\n",
    "    def __init__(self):\n",
    "        self.name = type(self).__name__\n",
    "        self.logger = logging.getLogger(self.name)\n",
    "        self.msk_offset = timedelta(hours=3)  # MSK = UTC+3\n",
    "\n",
    "    def parse_timestamp(self, ts):\n",
    "        \"\"\"Конвертирует разные форматы времени в (ISO строка MSK, Unix timestamp MSK)\"\"\"\n",
    "        try:\n",
    "            dt_utc = None\n",
    "\n",
    "            # Обработка числовых timestamp (секунды/миллисекунды)\n",
    "            if isinstance(ts, (int, float)):\n",
    "                if ts > 1e12:  # Миллисекунды\n",
    "                    ts_seconds = ts / 1000\n",
    "                else:  # Секунды\n",
    "                    ts_seconds = ts\n",
    "                dt_utc = datetime.fromtimestamp(ts_seconds, tz=timezone.utc)\n",
    "\n",
    "            # Обработка строковых форматов\n",
    "            elif isinstance(ts, str):\n",
    "                ts_clean = ts.rstrip('Z').replace('Z', '')\n",
    "                dt = datetime.fromisoformat(ts_clean)\n",
    "\n",
    "                if dt.tzinfo:  # Конвертируем в UTC если есть смещение\n",
    "                    dt_utc = dt.astimezone(timezone.utc)\n",
    "                else:  # Предполагаем UTC если нет информации\n",
    "                    dt_utc = dt.replace(tzinfo=timezone.utc)\n",
    "\n",
    "            else:\n",
    "                raise ValueError(f\"Unsupported timestamp type: {type(ts)}\")\n",
    "\n",
    "            # Конвертация в московское время (UTC+3)\n",
    "            dt_msk = dt_utc + self.msk_offset\n",
    "\n",
    "            # Форматируем результат\n",
    "            iso_msk = dt_msk.isoformat(timespec='milliseconds') + '+03:00'\n",
    "            unix_msk = int(dt_utc.timestamp())\n",
    "\n",
    "            return iso_msk, unix_msk\n",
    "\n",
    "        except Exception as e:\n",
    "            self.logger.error(f\"Timestamp parse error: {e}\")\n",
    "            now = datetime.now(timezone.utc) + self.msk_offset\n",
    "            return now.isoformat(timespec='milliseconds') + '+03:00', int(now.timestamp())"
   ]
  },
  {
   "cell_type": "code",
   "execution_count": 25,
   "metadata": {},
   "outputs": [],
   "source": [
    "cls = BaseAPIClient()"
   ]
  },
  {
   "cell_type": "code",
   "execution_count": 29,
   "metadata": {},
   "outputs": [
    {
     "data": {
      "text/plain": [
       "('2025-03-04T10:03:51.222+00:00+03:00', 1741071831)"
      ]
     },
     "execution_count": 29,
     "metadata": {},
     "output_type": "execute_result"
    }
   ],
   "source": [
    "cls.parse_timestamp(1741071831222)"
   ]
  },
  {
   "cell_type": "code",
   "execution_count": null,
   "metadata": {},
   "outputs": [],
   "source": []
  }
 ],
 "metadata": {
  "kernelspec": {
   "display_name": "Python 3",
   "language": "python",
   "name": "python3"
  },
  "language_info": {
   "codemirror_mode": {
    "name": "ipython",
    "version": 3
   },
   "file_extension": ".py",
   "mimetype": "text/x-python",
   "name": "python",
   "nbconvert_exporter": "python",
   "pygments_lexer": "ipython3",
   "version": "3.9.6"
  }
 },
 "nbformat": 4,
 "nbformat_minor": 2
}
